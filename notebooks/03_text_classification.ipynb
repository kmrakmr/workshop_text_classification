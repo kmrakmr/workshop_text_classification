{
  "cells": [
    {
      "cell_type": "markdown",
      "metadata": {
        "id": "UqL0UBCHg7hg"
      },
      "source": [
        "# Text Classification\n",
        "\n",
        "[![Open In Colab](https://colab.research.google.com/assets/colab-badge.svg)](https://colab.research.google.com/github/raghavbali/workshop_text_classification/blob/main/notebooks/03_text_classification.ipynb)\n",
        "\n",
        "In this notebook, we will leverage the preprocessing and representation techniques and apply them for a text classification use-case. In this notebook, we will cover:\n",
        "\n",
        "- Apply cleanup and transform text data into a vector form\n",
        "- Work through a text classification use-case\n",
        "\n",
        "```shell\n",
        "Add image from the slide deck\n",
        "```\n",
        "\n",
        "Text classification can have a number of applications, such as:\n",
        "- Document categorization\n",
        "- Spam vs Ham\n",
        "- Review Classification\n",
        "- Fake Vs Actual News\n",
        "- Sentiment Classification and so on...\n",
        "\n"
      ]
    },
    {
      "cell_type": "markdown",
      "metadata": {
        "id": "gXJy38mdjZuT"
      },
      "source": [
        "## Install Dependencies"
      ]
    },
    {
      "cell_type": "code",
      "execution_count": null,
      "metadata": {
        "id": "nWy_qyhngCGP"
      },
      "outputs": [],
      "source": [
        "!pip install contractions\n",
        "!pip install tqdm"
      ]
    },
    {
      "cell_type": "markdown",
      "metadata": {
        "id": "CHcgchhEjeET"
      },
      "source": [
        "## Import Libraries"
      ]
    },
    {
      "cell_type": "code",
      "execution_count": null,
      "metadata": {
        "id": "bHGTr-vljgko"
      },
      "outputs": [],
      "source": [
        "import nltk\n",
        "import contractions\n",
        "from bs4 import BeautifulSoup\n",
        "import numpy as np\n",
        "import re\n",
        "from tqdm.notebook import tqdm\n",
        "import unicodedata\n",
        "import pandas as pd"
      ]
    },
    {
      "cell_type": "code",
      "execution_count": null,
      "metadata": {
        "id": "KYx0yihzjgh_"
      },
      "outputs": [],
      "source": [
        "nltk.download('punkt')"
      ]
    },
    {
      "cell_type": "markdown",
      "metadata": {
        "id": "kpdYVBNgjzLk"
      },
      "source": [
        "## Get Data\n",
        "We will make use of the movie review dataset for this tutorial"
      ]
    },
    {
      "cell_type": "code",
      "execution_count": null,
      "metadata": {
        "id": "g2QAXU-jjgfX"
      },
      "outputs": [],
      "source": [
        "dataset = pd.read_csv(r'movie_reviews.csv.bz2')\n",
        "dataset.info()"
      ]
    },
    {
      "cell_type": "code",
      "execution_count": null,
      "metadata": {
        "id": "Xqy9dJHWj-XT"
      },
      "outputs": [],
      "source": [
        "dataset.head()"
      ]
    },
    {
      "cell_type": "markdown",
      "metadata": {
        "id": "8Z0dHnjmkAbq"
      },
      "source": [
        "### Prepare Train-Test Splits"
      ]
    },
    {
      "cell_type": "code",
      "execution_count": null,
      "metadata": {
        "id": "Wi4P8D5okE6b"
      },
      "outputs": [],
      "source": [
        "# build train and test datasets\n",
        "reviews = dataset['review'].values\n",
        "sentiments = dataset['sentiment'].values"
      ]
    },
    {
      "cell_type": "code",
      "execution_count": null,
      "metadata": {
        "id": "dNZgFhLvkE4S"
      },
      "outputs": [],
      "source": [
        "train_reviews = reviews[:35000]\n",
        "train_sentiments = sentiments[:35000]"
      ]
    },
    {
      "cell_type": "code",
      "execution_count": null,
      "metadata": {
        "id": "4rFcAlLYkE1G"
      },
      "outputs": [],
      "source": [
        "test_reviews = reviews[35000:]\n",
        "test_sentiments = sentiments[35000:]"
      ]
    },
    {
      "cell_type": "markdown",
      "metadata": {
        "id": "StrRCsxjkNZW"
      },
      "source": [
        "## Text Preprocessing\n",
        "- Remove HTML/Special Characters\n",
        "- Remove accented characters\n",
        "- Lowercase"
      ]
    },
    {
      "cell_type": "code",
      "execution_count": null,
      "metadata": {
        "id": "vhv0p91EkTl8"
      },
      "outputs": [],
      "source": [
        "def strip_html_tags(text):\n",
        "  soup = BeautifulSoup(text, \"html.parser\")\n",
        "  [s.extract() for s in soup(['iframe', 'script'])]\n",
        "  stripped_text = soup.get_text()\n",
        "  stripped_text = re.sub(r'[\\r|\\n|\\r\\n]+', '\\n', stripped_text)\n",
        "  return stripped_text\n",
        "\n",
        "def remove_accented_chars(text):\n",
        "  text = unicodedata.normalize('NFKD', text).encode('ascii', 'ignore').decode('utf-8', 'ignore')\n",
        "  return text\n",
        "\n",
        "def pre_process_corpus(docs):\n",
        "  norm_docs = []\n",
        "  for doc in tqdm(docs):\n",
        "    doc = strip_html_tags(doc)\n",
        "    doc = doc.translate(doc.maketrans(\"\\n\\t\\r\", \"   \"))\n",
        "    doc = doc.lower()\n",
        "    doc = remove_accented_chars(doc)\n",
        "    doc = contractions.fix(doc)\n",
        "    # lower case and remove special characters\\whitespaces\n",
        "    doc = re.sub(r'[^a-zA-Z0-9\\s]', '', doc, re.I|re.A)\n",
        "    doc = re.sub(' +', ' ', doc)\n",
        "    doc = doc.strip()  \n",
        "    norm_docs.append(doc)\n",
        "  \n",
        "  return norm_docs"
      ]
    },
    {
      "cell_type": "code",
      "execution_count": null,
      "metadata": {
        "id": "9ujpM3YrkiTb"
      },
      "outputs": [],
      "source": [
        "%%time\n",
        "norm_train_reviews = pre_process_corpus(train_reviews)\n",
        "norm_test_reviews = pre_process_corpus(test_reviews)"
      ]
    },
    {
      "cell_type": "markdown",
      "metadata": {
        "id": "utycIPiukpuq"
      },
      "source": [
        "## Feature Engineering"
      ]
    },
    {
      "cell_type": "code",
      "execution_count": null,
      "metadata": {
        "id": "KvHnLU18kszI"
      },
      "outputs": [],
      "source": [
        "from sklearn.feature_extraction.text import CountVectorizer, TfidfVectorizer"
      ]
    },
    {
      "cell_type": "code",
      "execution_count": null,
      "metadata": {
        "id": "6BMIpQWTkt-Z"
      },
      "outputs": [],
      "source": [
        "# build BOW features on train reviews\n",
        "cv = CountVectorizer(binary=False, min_df=5, max_df=1.0, ngram_range=(1,2))\n",
        "cv_train_features = cv.fit_transform(norm_train_reviews)"
      ]
    },
    {
      "cell_type": "code",
      "execution_count": null,
      "metadata": {
        "id": "0wpJkPeskt7y"
      },
      "outputs": [],
      "source": [
        "# build TFIDF features on train reviews\n",
        "tv = TfidfVectorizer(use_idf=True, min_df=5, max_df=1.0, ngram_range=(1,2),\n",
        "                     sublinear_tf=True)\n",
        "tv_train_features = tv.fit_transform(norm_train_reviews)"
      ]
    },
    {
      "cell_type": "code",
      "execution_count": null,
      "metadata": {
        "id": "KPVPu2OUkt4X"
      },
      "outputs": [],
      "source": [
        "%%time\n",
        "\n",
        "# transform test reviews into features\n",
        "cv_test_features = cv.transform(norm_test_reviews)\n",
        "tv_test_features = tv.transform(norm_test_reviews)"
      ]
    },
    {
      "cell_type": "markdown",
      "metadata": {
        "id": "5EiZUgr-k7EG"
      },
      "source": [
        "## Classification Model: Logistic Regression\n",
        "\n",
        "Also known as the logit or logistic model, it uses the logistic (popularly also known as sigmoid) mathematical function to estimate the parameter values. These are the coefficients of all our features such that the overall loss is minimized when predicting the outcome"
      ]
    },
    {
      "cell_type": "code",
      "execution_count": null,
      "metadata": {
        "id": "q5wmaYmelEh1"
      },
      "outputs": [],
      "source": [
        "# Logistic Regression model on BOW features\n",
        "from sklearn.linear_model import LogisticRegression"
      ]
    },
    {
      "cell_type": "markdown",
      "metadata": {
        "id": "CgC2ZKRKlomp"
      },
      "source": [
        "### LR with Count Vectorizer"
      ]
    },
    {
      "cell_type": "code",
      "execution_count": null,
      "metadata": {
        "id": "_ZBrjG8GlIvV"
      },
      "outputs": [],
      "source": [
        "# instantiate model\n",
        "lr_cv = LogisticRegression(penalty='l2', \n",
        "                        max_iter=500, \n",
        "                        C=1, \n",
        "                        solver='lbfgs', \n",
        "                        random_state=42)"
      ]
    },
    {
      "cell_type": "code",
      "execution_count": null,
      "metadata": {
        "id": "IXujYFTKlIkp"
      },
      "outputs": [],
      "source": [
        "## Train with CountVectorizer Features\n",
        "# train model\n",
        "lr_cv.fit(cv_train_features, train_sentiments)"
      ]
    },
    {
      "cell_type": "code",
      "execution_count": null,
      "metadata": {
        "id": "Ioq62lEtlRPL"
      },
      "outputs": [],
      "source": [
        "# predict on test data\n",
        "lr_bow_predictions = lr_cv.predict(cv_test_features)"
      ]
    },
    {
      "cell_type": "markdown",
      "metadata": {
        "id": "wLu9mg4nlVkD"
      },
      "source": [
        "### Evaluate Model"
      ]
    },
    {
      "cell_type": "code",
      "execution_count": null,
      "metadata": {
        "id": "-rmXkrnRlYH1"
      },
      "outputs": [],
      "source": [
        "print(classification_report(test_sentiments, lr_bow_predictions))"
      ]
    },
    {
      "cell_type": "code",
      "execution_count": null,
      "metadata": {
        "id": "RgWlqugblZrc"
      },
      "outputs": [],
      "source": [
        "labels = ['negative', 'positive']\n",
        "pd.DataFrame(confusion_matrix(test_sentiments, lr_bow_predictions), \n",
        "             index=labels, columns=labels)"
      ]
    },
    {
      "cell_type": "markdown",
      "metadata": {
        "id": "mi3_BaRMluBw"
      },
      "source": [
        "### LR with TFIDF"
      ]
    },
    {
      "cell_type": "code",
      "execution_count": null,
      "metadata": {
        "id": "5DuaWtgalvlw"
      },
      "outputs": [],
      "source": [
        "# instantiate model\n",
        "lr_tv = LogisticRegression(penalty='l2', \n",
        "                        max_iter=500, \n",
        "                        C=1, \n",
        "                        solver='lbfgs', \n",
        "                        random_state=42)"
      ]
    },
    {
      "cell_type": "code",
      "execution_count": null,
      "metadata": {
        "id": "tGTTCiIblyZA"
      },
      "outputs": [],
      "source": [
        "## Train with CountVectorizer Features\n",
        "# train model\n",
        "lr_tv.fit(tv_train_features, train_sentiments)"
      ]
    },
    {
      "cell_type": "markdown",
      "metadata": {
        "id": "LAbEFoF0l7ye"
      },
      "source": [
        "### Evaluate Model"
      ]
    },
    {
      "cell_type": "code",
      "execution_count": null,
      "metadata": {
        "id": "qx1ER0fll-Zy"
      },
      "outputs": [],
      "source": [
        "print(classification_report(test_sentiments, lr_tfidf_predictions))"
      ]
    },
    {
      "cell_type": "code",
      "execution_count": null,
      "metadata": {
        "id": "T-yqZjmWl_Qn"
      },
      "outputs": [],
      "source": [
        "labels = ['negative', 'positive']\n",
        "pd.DataFrame(confusion_matrix(test_sentiments, lr_tfidf_predictions), \n",
        "             index=labels, columns=labels)"
      ]
    }
  ],
  "metadata": {
    "colab": {
      "collapsed_sections": [],
      "name": "03_text_classification.ipynb",
      "provenance": [],
      "toc_visible": true
    },
    "kernelspec": {
      "display_name": "Python 3",
      "name": "python3"
    },
    "language_info": {
      "name": "python"
    }
  },
  "nbformat": 4,
  "nbformat_minor": 0
}
