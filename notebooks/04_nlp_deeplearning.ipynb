{
  "nbformat": 4,
  "nbformat_minor": 0,
  "metadata": {
    "colab": {
      "name": "04_nlp_deeplearning.ipynb",
      "provenance": [],
      "collapsed_sections": [],
      "toc_visible": true
    },
    "kernelspec": {
      "name": "python3",
      "display_name": "Python 3"
    },
    "language_info": {
      "name": "python"
    }
  },
  "cells": [
    {
      "cell_type": "markdown",
      "source": [
        "# Word Embeddings and Deep Learning for NLP\n",
        "\n",
        "This notebook covers some of basic steps involved in using Deep Learning for NLP. This notebook covers:\n",
        "\n",
        "A brief overview of Word2Vec based Embeddings.\n",
        "A brief on HuggingFace Transformer :hugs: based implementation of NLP tasks\n",
        "Note: This is just an overview and not an exhaustive material on NLP with Deep Learning"
      ],
      "metadata": {
        "id": "JaWAu5ujnB4g"
      }
    },
    {
      "cell_type": "markdown",
      "source": [
        "## Text Representation using Word2Vec"
      ],
      "metadata": {
        "id": "0h_gkXlco7E9"
      }
    },
    {
      "cell_type": "code",
      "source": [
        "import pandas as pd\n",
        "import numpy as np\n",
        "from sklearn.datasets import fetch_20newsgroups\n",
        "\n",
        "pd.options.display.max_colwidth = 200"
      ],
      "metadata": {
        "id": "v8rbvEvSpKj2"
      },
      "execution_count": null,
      "outputs": []
    },
    {
      "cell_type": "markdown",
      "source": [
        "### Get Dataset"
      ],
      "metadata": {
        "id": "Cna9YhwkpMX-"
      }
    },
    {
      "cell_type": "code",
      "execution_count": null,
      "metadata": {
        "id": "XFJs5ovFm-LW"
      },
      "outputs": [],
      "source": [
        "categories = ['alt.atheism', 'comp.graphics', 'sci.med']"
      ]
    },
    {
      "cell_type": "code",
      "source": [
        "twenty_corpus = fetch_20newsgroups(subset='train',\n",
        "    categories=categories, shuffle=True, random_state=42)"
      ],
      "metadata": {
        "id": "wgexPcuFpUjs"
      },
      "execution_count": null,
      "outputs": []
    },
    {
      "cell_type": "code",
      "source": [
        "[news.split('\\n')[1] for news in twenty_corpus.data[:10]]"
      ],
      "metadata": {
        "id": "Mt4n_TZWpWa_"
      },
      "execution_count": null,
      "outputs": []
    },
    {
      "cell_type": "code",
      "source": [
        "twenty_corpus.target[:10]"
      ],
      "metadata": {
        "id": "qVhpKEv1pYX1"
      },
      "execution_count": null,
      "outputs": []
    },
    {
      "cell_type": "code",
      "source": [
        "corpus = [news.split('\\n')[1] for news in twenty_corpus.data[:10]]\n",
        "labels = [categories[i] for i in twenty_corpus.target[:10]]"
      ],
      "metadata": {
        "id": "swQzWs1qpa_4"
      },
      "execution_count": null,
      "outputs": []
    },
    {
      "cell_type": "code",
      "source": [
        "corpus = np.array(corpus)\n",
        "corpus_df = pd.DataFrame({'Document': corpus, \n",
        "                          'Category': labels})\n",
        "corpus_df = corpus_df[['Document', 'Category']]\n",
        "corpus_df"
      ],
      "metadata": {
        "id": "PoU7a4z0pa9C"
      },
      "execution_count": null,
      "outputs": []
    },
    {
      "cell_type": "markdown",
      "source": [
        "### Preprocess Dataset"
      ],
      "metadata": {
        "id": "C35Ma3AbphM2"
      }
    },
    {
      "cell_type": "code",
      "source": [
        "import nltk\n",
        "import re\n",
        "nltk.download('stopwords')\n",
        "nltk.download('punkt')"
      ],
      "metadata": {
        "id": "HXdZeOx7pdf0"
      },
      "execution_count": null,
      "outputs": []
    },
    {
      "cell_type": "code",
      "source": [
        "def normalize_document(doc):\n",
        "    # lower case and remove special characters\\whitespaces\n",
        "    doc = re.sub(r'[^a-zA-Z\\s]', '', doc, re.I|re.A)\n",
        "    doc = doc.lower()\n",
        "    doc = doc.strip()\n",
        "    # tokenize document\n",
        "    tokens = nltk.word_tokenize(doc)\n",
        "    # filter stopwords out of document\n",
        "    filtered_tokens = [token for token in tokens if token not in stop_words]\n",
        "    # re-create document from filtered tokens\n",
        "    doc = ' '.join(filtered_tokens)\n",
        "    return doc"
      ],
      "metadata": {
        "id": "DInq975npddO"
      },
      "execution_count": null,
      "outputs": []
    },
    {
      "cell_type": "code",
      "source": [
        "stop_words = nltk.corpus.stopwords.words('english')\n",
        "normalize_corpus = np.vectorize(normalize_document)\n",
        "\n",
        "norm_corpus = normalize_corpus(corpus)\n",
        "norm_corpus"
      ],
      "metadata": {
        "id": "4AGfGfxPpdaS"
      },
      "execution_count": null,
      "outputs": []
    },
    {
      "cell_type": "markdown",
      "source": [
        "### Train Word2Vec Model"
      ],
      "metadata": {
        "id": "ARyquvKiptSL"
      }
    },
    {
      "cell_type": "markdown",
      "source": [
        "The Skip-gram model architecture usually tries to achieve the reverse of what the CBOW model does. It tries to predict the source context words (surrounding words) given a target word (the center word).\n",
        "\n",
        "Considering our simple sentence from earlier, “the quick brown fox jumps over the lazy dog”. If we used the CBOW model, we get pairs of (context_window, target_word) where if we consider a context window of size 2, we have examples like ([quick, fox], brown), ([the, brown], quick), ([the, dog], lazy) and so on.\n",
        "\n",
        "Now considering that the skip-gram model’s aim is to predict the context from the target word, the model typically inverts the contexts and targets, and tries to predict each context word from its target word. Hence the task becomes to predict the context [quick, fox] given target word ‘brown’ or [the, brown] given target word ‘quick’ and so on.\n",
        "\n",
        "Thus the model tries to predict the context_window words based on the target_word.\n",
        "\n",
        "``\n",
        "![skipgram_arch.png]()\n",
        "``"
      ],
      "metadata": {
        "id": "y1m_QYz8qT96"
      }
    },
    {
      "cell_type": "code",
      "source": [
        "import nltk\n",
        "from gensim.models import word2vec"
      ],
      "metadata": {
        "id": "0hKGNvMopwVV"
      },
      "execution_count": null,
      "outputs": []
    },
    {
      "cell_type": "code",
      "source": [
        "tokenized_corpus = [nltk.word_tokenize(doc) for doc in norm_corpus]"
      ],
      "metadata": {
        "id": "Pun4KemLpwSs"
      },
      "execution_count": null,
      "outputs": []
    },
    {
      "cell_type": "code",
      "source": [
        "# Set values for various parameters\n",
        "feature_size = 15    # Word vector dimensionality  \n",
        "window_context = 20  # Context window size                                                                                    \n",
        "min_word_count = 1   # Minimum word count                        \n",
        "sample = 1e-3        # Downsample setting for frequent words\n",
        "sg = 1               # skip-gram model\n",
        "\n",
        "w2v_model = word2vec.Word2Vec(tokenized_corpus, size=feature_size, \n",
        "                              window=window_context, min_count = min_word_count,\n",
        "                              sg=sg, sample=sample, iter=5000)\n"
      ],
      "metadata": {
        "id": "eZ2yy0YfpwQO"
      },
      "execution_count": null,
      "outputs": []
    },
    {
      "cell_type": "markdown",
      "source": [
        "### Visualize Embeddings"
      ],
      "metadata": {
        "id": "ADkVnAVzp0YD"
      }
    },
    {
      "cell_type": "code",
      "source": [
        "from matplotlib import pyplot as plt\n",
        "%matplotlib inline\n",
        "# visualize embeddings\n",
        "from sklearn.manifold import TSNE"
      ],
      "metadata": {
        "id": "39ig6TP-p3LE"
      },
      "execution_count": null,
      "outputs": []
    },
    {
      "cell_type": "code",
      "source": [
        "words = w2v_model.wv.index2word\n",
        "wvs = w2v_model.wv[words]\n",
        "\n",
        "tsne = TSNE(n_components=2, random_state=42, n_iter=5000, perplexity=5)\n",
        "np.set_printoptions(suppress=True)\n",
        "T = tsne.fit_transform(wvs)\n",
        "labels = words\n",
        "\n",
        "plt.figure(figsize=(12, 6))\n",
        "plt.scatter(T[:, 0], T[:, 1], c='blue')\n",
        "for label, x, y in zip(labels, T[:, 0], T[:, 1]):\n",
        "    plt.annotate(label, xy=(x+1, y+1), xytext=(0, 0), textcoords='offset points')"
      ],
      "metadata": {
        "id": "7SkvFPZWp40x"
      },
      "execution_count": null,
      "outputs": []
    },
    {
      "cell_type": "markdown",
      "source": [
        "## Transformers 🤗"
      ],
      "metadata": {
        "id": "EwgNs0sSp6Xk"
      }
    },
    {
      "cell_type": "code",
      "source": [
        "!pip install transformers"
      ],
      "metadata": {
        "id": "XcQXF_tjqAdk"
      },
      "execution_count": null,
      "outputs": []
    },
    {
      "cell_type": "code",
      "source": [
        "from transformers import pipeline"
      ],
      "metadata": {
        "id": "_Ovs8dbmqD9b"
      },
      "execution_count": null,
      "outputs": []
    },
    {
      "cell_type": "code",
      "source": [
        "classifier = pipeline('sentiment-analysis')"
      ],
      "metadata": {
        "id": "m71pFXF-qFf4"
      },
      "execution_count": null,
      "outputs": []
    },
    {
      "cell_type": "code",
      "source": [
        "classifier.tokenizer('The hugging-face transformer package really simplifies NLP tasks')"
      ],
      "metadata": {
        "id": "EDUhgwEnqGxH"
      },
      "execution_count": null,
      "outputs": []
    },
    {
      "cell_type": "code",
      "source": [
        "classifier('The hugging-face transformer package really simplifies NLP tasks')"
      ],
      "metadata": {
        "id": "a8Xin8auqIMN"
      },
      "execution_count": null,
      "outputs": []
    }
  ]
}